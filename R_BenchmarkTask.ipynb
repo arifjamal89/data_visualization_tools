{
  "nbformat": 4,
  "nbformat_minor": 0,
  "metadata": {
    "colab": {
      "provenance": [],
      "authorship_tag": "ABX9TyM4zpOrRGQ2f4bhG88bjTzb",
      "include_colab_link": true
    },
    "kernelspec": {
      "name": "ir",
      "display_name": "R"
    },
    "language_info": {
      "name": "R"
    }
  },
  "cells": [
    {
      "cell_type": "markdown",
      "metadata": {
        "id": "view-in-github",
        "colab_type": "text"
      },
      "source": [
        "<a href=\"https://colab.research.google.com/github/arifjamal89/data_visualization_tools/blob/main/R_BenchmarkTask.ipynb\" target=\"_parent\"><img src=\"https://colab.research.google.com/assets/colab-badge.svg\" alt=\"Open In Colab\"/></a>"
      ]
    },
    {
      "cell_type": "code",
      "source": [
        "#################################################################\n",
        "## PLEASE PUT THE TIME TOOK FOR INSTALLATION\n",
        "## START TIME : \n",
        "## END TIME : \n",
        "## BETWEEN 1 - 5 WHAT IS YOUR CONFIDENCE LEVEL FOR THE TASK\n",
        "## ANSWER : "
      ],
      "metadata": {
        "id": "-jYfM2HOidHz"
      },
      "execution_count": null,
      "outputs": []
    },
    {
      "cell_type": "markdown",
      "source": [
        "\n",
        "# **Activity 1 : Import R libraries and pakcages relevant for data visualization**\n",
        "\n",
        "\n",
        "\n"
      ],
      "metadata": {
        "id": "HGQ4b79OGvWb"
      }
    },
    {
      "cell_type": "code",
      "source": [
        "#################################################################\n",
        "## START TIME : "
      ],
      "metadata": {
        "id": "7yNJ7YqghRWk"
      },
      "execution_count": null,
      "outputs": []
    },
    {
      "cell_type": "code",
      "execution_count": null,
      "metadata": {
        "id": "OYF1K6CH4MrC"
      },
      "outputs": [],
      "source": [
        "# TASK 02 : Import relevant R packages library\n"
      ]
    },
    {
      "cell_type": "code",
      "source": [
        "#################################################################\n",
        "## END TIME : \n",
        "## BETWEEN 1 - 5 WHAT IS YOUR CONFIDENCE LEVEL FOR THE TASK\n",
        "## ANSWER : "
      ],
      "metadata": {
        "id": "SPhYrdU6hWXQ"
      },
      "execution_count": null,
      "outputs": []
    },
    {
      "cell_type": "markdown",
      "source": [
        "# **Activity 2 : Load the data source given into this workspace and rename the data with suitable name variable.**"
      ],
      "metadata": {
        "id": "cFQjBUTe4-BV"
      }
    },
    {
      "cell_type": "code",
      "source": [
        "#################################################################\n",
        "## START TIME :"
      ],
      "metadata": {
        "id": "Ffqt78FRhaZj"
      },
      "execution_count": null,
      "outputs": []
    },
    {
      "cell_type": "code",
      "source": [
        "# Task 03 : Load health data for analysis\n"
      ],
      "metadata": {
        "id": "5ug53jtm4-fv"
      },
      "execution_count": null,
      "outputs": []
    },
    {
      "cell_type": "code",
      "source": [
        "#################################################################\n",
        "## END TIME :\n",
        "## BETWEEN 1 - 5 WHAT IS YOUR CONFIDENCE LEVEL FOR THE TASK\n",
        "## ANSWER : "
      ],
      "metadata": {
        "id": "sEHMqPZahavo"
      },
      "execution_count": null,
      "outputs": []
    },
    {
      "cell_type": "markdown",
      "source": [
        "# **Activity 3 : Understanding the data.**"
      ],
      "metadata": {
        "id": "CnOHGi-EG9OS"
      }
    },
    {
      "cell_type": "code",
      "source": [
        "#################################################################\n",
        "## START TIME :"
      ],
      "metadata": {
        "id": "n2JJ4f4Gi8TG"
      },
      "execution_count": null,
      "outputs": []
    },
    {
      "cell_type": "code",
      "source": [
        "# Task 04 : Display or show 5 example rows of data that has been uploaded\n"
      ],
      "metadata": {
        "id": "DBiUFLFU7_GW"
      },
      "execution_count": null,
      "outputs": []
    },
    {
      "cell_type": "code",
      "source": [
        "#################################################################\n",
        "## END TIME :\n",
        "## BETWEEN 1 - 5 WHAT IS YOUR CONFIDENCE LEVEL FOR THE TASK\n",
        "## ANSWER : v"
      ],
      "metadata": {
        "id": "GDXaaz_Ii9Ae"
      },
      "execution_count": null,
      "outputs": []
    },
    {
      "cell_type": "code",
      "source": [
        "#################################################################\n",
        "## START TIME :"
      ],
      "metadata": {
        "id": "f3IZZdXUjDBk"
      },
      "execution_count": null,
      "outputs": []
    },
    {
      "cell_type": "code",
      "source": [
        "# Task 05 : Display column names \n"
      ],
      "metadata": {
        "id": "wJ644jWvHUNo"
      },
      "execution_count": null,
      "outputs": []
    },
    {
      "cell_type": "code",
      "source": [
        "#################################################################\n",
        "## END TIME :\n",
        "## BETWEEN 1 - 5 WHAT IS YOUR CONFIDENCE LEVEL FOR THE TASK\n",
        "## ANSWER : "
      ],
      "metadata": {
        "id": "hS8LMQyci_hr"
      },
      "execution_count": null,
      "outputs": []
    },
    {
      "cell_type": "code",
      "source": [
        "#################################################################\n",
        "## START TIME :"
      ],
      "metadata": {
        "id": "fJZj4YQQjEEn"
      },
      "execution_count": null,
      "outputs": []
    },
    {
      "cell_type": "code",
      "source": [
        "# Task 06 : Display type of data for each column\n"
      ],
      "metadata": {
        "id": "9-TVt_4tHeZA"
      },
      "execution_count": null,
      "outputs": []
    },
    {
      "cell_type": "code",
      "source": [
        "#################################################################\n",
        "## END TIME :\n",
        "## BETWEEN 1 - 5 WHAT IS YOUR CONFIDENCE LEVEL FOR THE TASK\n",
        "## ANSWER : "
      ],
      "metadata": {
        "id": "i00RypKci_12"
      },
      "execution_count": null,
      "outputs": []
    },
    {
      "cell_type": "code",
      "source": [
        "#################################################################\n",
        "## START TIME :"
      ],
      "metadata": {
        "id": "C4nKNEp9jGeV"
      },
      "execution_count": null,
      "outputs": []
    },
    {
      "cell_type": "code",
      "source": [
        "# Task 07 : Change the column name into simple and short variable name\n"
      ],
      "metadata": {
        "id": "uFna6RdvItZW"
      },
      "execution_count": null,
      "outputs": []
    },
    {
      "cell_type": "code",
      "source": [
        "#################################################################\n",
        "## END TIME :\n",
        "## BETWEEN 1 - 5 WHAT IS YOUR CONFIDENCE LEVEL FOR THE TASK\n",
        "## ANSWER : "
      ],
      "metadata": {
        "id": "CIdBjZZZjAO7"
      },
      "execution_count": null,
      "outputs": []
    },
    {
      "cell_type": "markdown",
      "source": [
        "# **Activity 4 : Visualize the data.**"
      ],
      "metadata": {
        "id": "Q0MYIB_R_h2E"
      }
    },
    {
      "cell_type": "code",
      "source": [
        "#################################################################\n",
        "## START TIME :"
      ],
      "metadata": {
        "id": "DUVizjcPlMqj"
      },
      "execution_count": null,
      "outputs": []
    },
    {
      "cell_type": "code",
      "source": [
        "#\n",
        "#  Question 1 - What was the Depression rate? \n",
        "#\n"
      ],
      "metadata": {
        "id": "S0amHG2JXIdh"
      },
      "execution_count": null,
      "outputs": []
    },
    {
      "cell_type": "code",
      "source": [
        "#################################################################\n",
        "## END TIME :\n",
        "## BETWEEN 1 - 5 WHAT IS YOUR CONFIDENCE LEVEL FOR THE TASK\n",
        "## ANSWER : "
      ],
      "metadata": {
        "id": "KA9m8TJAlBpI"
      },
      "execution_count": null,
      "outputs": []
    },
    {
      "cell_type": "code",
      "source": [
        "#################################################################\n",
        "## START TIME :"
      ],
      "metadata": {
        "id": "jHrTJh2plN2X"
      },
      "execution_count": null,
      "outputs": []
    },
    {
      "cell_type": "code",
      "source": [
        "#\n",
        "# Question 2 - What was the anxiety rate by gender? \n",
        "#\n",
        "\n"
      ],
      "metadata": {
        "id": "hBYULlwkGhBn"
      },
      "execution_count": null,
      "outputs": []
    },
    {
      "cell_type": "code",
      "source": [
        "#################################################################\n",
        "## END TIME :\n",
        "## BETWEEN 1 - 5 WHAT IS YOUR CONFIDENCE LEVEL FOR THE TASK\n",
        "## ANSWER : "
      ],
      "metadata": {
        "id": "LXy9nsEklDsx"
      },
      "execution_count": null,
      "outputs": []
    },
    {
      "cell_type": "code",
      "source": [
        "#################################################################\n",
        "## START TIME :"
      ],
      "metadata": {
        "id": "K4HkJYKblUHX"
      },
      "execution_count": null,
      "outputs": []
    },
    {
      "cell_type": "code",
      "source": [
        "#\n",
        "# Question 3 - What was the depression rate by courses \n",
        "#\n"
      ],
      "metadata": {
        "id": "tO_yXDZWHd_h"
      },
      "execution_count": null,
      "outputs": []
    },
    {
      "cell_type": "code",
      "source": [
        "#################################################################\n",
        "## END TIME :\n",
        "## BETWEEN 1 - 5 WHAT IS YOUR CONFIDENCE LEVEL FOR THE TASK\n",
        "## ANSWER : "
      ],
      "metadata": {
        "id": "7m4jOS5IlEP4"
      },
      "execution_count": null,
      "outputs": []
    },
    {
      "cell_type": "code",
      "source": [
        "#################################################################\n",
        "## START TIME :"
      ],
      "metadata": {
        "id": "lciIg8SjlVB3"
      },
      "execution_count": null,
      "outputs": []
    },
    {
      "cell_type": "code",
      "source": [
        "#\n",
        "# Question 4 - What is the distribution of student ages using distribution plot? (Binwidth = 1)\n",
        "#\n",
        "\n"
      ],
      "metadata": {
        "id": "5OCV7FSMH3jH"
      },
      "execution_count": null,
      "outputs": []
    },
    {
      "cell_type": "code",
      "source": [
        "#################################################################\n",
        "## END TIME :\n",
        "## BETWEEN 1 - 5 WHAT IS YOUR CONFIDENCE LEVEL FOR THE TASK\n",
        "## ANSWER : "
      ],
      "metadata": {
        "id": "hDMNObYvlE88"
      },
      "execution_count": null,
      "outputs": []
    },
    {
      "cell_type": "code",
      "source": [
        "#################################################################\n",
        "## START TIME :"
      ],
      "metadata": {
        "id": "Usgl-VFBlV-q"
      },
      "execution_count": null,
      "outputs": []
    },
    {
      "cell_type": "code",
      "source": [
        "#\n",
        "# Question 5 - What are the Panic Attack rates by age using distribution plot? \n",
        "#"
      ],
      "metadata": {
        "id": "o2x5kzWtkPyN"
      },
      "execution_count": null,
      "outputs": []
    },
    {
      "cell_type": "code",
      "source": [
        "#################################################################\n",
        "## END TIME :\n",
        "## BETWEEN 1 - 5 WHAT IS YOUR CONFIDENCE LEVEL FOR THE TASK\n",
        "## ANSWER : "
      ],
      "metadata": {
        "id": "KMe7iPzalGDZ"
      },
      "execution_count": null,
      "outputs": []
    },
    {
      "cell_type": "code",
      "source": [
        "#################################################################\n",
        "## START TIME :"
      ],
      "metadata": {
        "id": "TAJL3YQblXIb"
      },
      "execution_count": null,
      "outputs": []
    },
    {
      "cell_type": "code",
      "source": [
        "#\n",
        "# Question 6 - Use Box plot to display depression rate by age\n",
        "# \n",
        "\n"
      ],
      "metadata": {
        "id": "4fXpOJ7WJ7Ha"
      },
      "execution_count": null,
      "outputs": []
    },
    {
      "cell_type": "code",
      "source": [
        "#################################################################\n",
        "## END TIME :\n",
        "## BETWEEN 1 - 5 WHAT IS YOUR CONFIDENCE LEVEL FOR THE TASK\n",
        "## ANSWER : "
      ],
      "metadata": {
        "id": "4EWVr3dDlHF4"
      },
      "execution_count": null,
      "outputs": []
    },
    {
      "cell_type": "code",
      "source": [
        "#################################################################\n",
        "## START TIME :"
      ],
      "metadata": {
        "id": "NhGeFftllYnt"
      },
      "execution_count": null,
      "outputs": []
    },
    {
      "cell_type": "code",
      "source": [
        "#\n",
        "# Question 7 - Use Bar plot to display depression rate by cgpa\n",
        "#\n"
      ],
      "metadata": {
        "id": "f-fxsYO8ZMcC"
      },
      "execution_count": null,
      "outputs": []
    },
    {
      "cell_type": "code",
      "source": [
        "#################################################################\n",
        "## END TIME :\n",
        "## BETWEEN 1 - 5 WHAT IS YOUR CONFIDENCE LEVEL FOR THE TASK\n",
        "## ANSWER : "
      ],
      "metadata": {
        "id": "JPsgQvDllH-l"
      },
      "execution_count": null,
      "outputs": []
    },
    {
      "cell_type": "code",
      "source": [
        "#################################################################\n",
        "## START TIME :"
      ],
      "metadata": {
        "id": "sC3SM5g9lZbC"
      },
      "execution_count": null,
      "outputs": []
    },
    {
      "cell_type": "code",
      "source": [
        "#\n",
        "# Question 8 - Use Bar plot to display anxiety rate by cgpa\n",
        "#"
      ],
      "metadata": {
        "id": "3DYA-dHpZrTw"
      },
      "execution_count": null,
      "outputs": []
    },
    {
      "cell_type": "code",
      "source": [
        "#################################################################\n",
        "## END TIME :\n",
        "## BETWEEN 1 - 5 WHAT IS YOUR CONFIDENCE LEVEL FOR THE TASK\n",
        "## ANSWER : "
      ],
      "metadata": {
        "id": "B_TRlZ_ClIwF"
      },
      "execution_count": null,
      "outputs": []
    },
    {
      "cell_type": "code",
      "source": [
        "#################################################################\n",
        "## START TIME :"
      ],
      "metadata": {
        "id": "kEC6XmxblaTX"
      },
      "execution_count": null,
      "outputs": []
    },
    {
      "cell_type": "code",
      "source": [
        "#\n",
        "# Question 9 - Use bar plot to display depression rate by current year study\n",
        "#\n"
      ],
      "metadata": {
        "id": "3voSxJrmZ4UP"
      },
      "execution_count": null,
      "outputs": []
    },
    {
      "cell_type": "code",
      "source": [
        "#################################################################\n",
        "## END TIME :\n",
        "## BETWEEN 1 - 5 WHAT IS YOUR CONFIDENCE LEVEL FOR THE TASK\n",
        "## ANSWER : "
      ],
      "metadata": {
        "id": "OCv61EgqlJqE"
      },
      "execution_count": null,
      "outputs": []
    },
    {
      "cell_type": "code",
      "source": [
        "#################################################################\n",
        "## START TIME :"
      ],
      "metadata": {
        "id": "h_rAsOeIlbMl"
      },
      "execution_count": null,
      "outputs": []
    },
    {
      "cell_type": "code",
      "source": [
        "#\n",
        "# Question 10 - What was the treatment rate by depression rate and gender? \n",
        "# Understanding those student who have depression are seeking help for specialist treatment.\n",
        "#\n"
      ],
      "metadata": {
        "id": "cEbVp19VaG9Z"
      },
      "execution_count": null,
      "outputs": []
    },
    {
      "cell_type": "code",
      "source": [
        "#################################################################\n",
        "## END TIME :\n",
        "## BETWEEN 1 - 5 WHAT IS YOUR CONFIDENCE LEVEL FOR THE TASK\n",
        "## ANSWER : "
      ],
      "metadata": {
        "id": "DV3Nd_splKc6"
      },
      "execution_count": null,
      "outputs": []
    },
    {
      "cell_type": "markdown",
      "source": [
        "After finishing the task please click on File -> Download -> Download .ipynb and email your work to arifjamal89@gmail.com\n",
        "\n",
        "\n",
        "Please answer the usability questionnaire below\n",
        "\n",
        "Link : https://forms.gle/o8F1jbzcRx8aRtRj8\n",
        "\n"
      ],
      "metadata": {
        "id": "zQLe9JDjdbQf"
      }
    }
  ]
}