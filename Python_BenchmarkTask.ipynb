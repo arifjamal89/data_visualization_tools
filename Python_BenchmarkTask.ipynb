{
  "nbformat": 4,
  "nbformat_minor": 0,
  "metadata": {
    "colab": {
      "provenance": [],
      "authorship_tag": "ABX9TyMAgsv42QtHNKnJ6qc+fgAO",
      "include_colab_link": true
    },
    "kernelspec": {
      "name": "python3",
      "display_name": "Python 3"
    },
    "language_info": {
      "name": "python"
    }
  },
  "cells": [
    {
      "cell_type": "markdown",
      "metadata": {
        "id": "view-in-github",
        "colab_type": "text"
      },
      "source": [
        "<a href=\"https://colab.research.google.com/github/arifjamal89/data_visualization_tools/blob/main/Python_BenchmarkTask.ipynb\" target=\"_parent\"><img src=\"https://colab.research.google.com/assets/colab-badge.svg\" alt=\"Open In Colab\"/></a>"
      ]
    },
    {
      "cell_type": "markdown",
      "source": [
        "# **Activities 1 : Setup and Install**\n"
      ],
      "metadata": {
        "id": "zq1F8noVSPpo"
      }
    },
    {
      "cell_type": "code",
      "source": [
        "#################################################################\n",
        "## PLEASE PUT THE TIME TOOK FOR INSTALLATION\n",
        "## START TIME : \n",
        "## END TIME : \n",
        "## BETWEEN 1 - 5 WHAT IS YOUR CONFIDENCE LEVEL FOR THE TASK\n",
        "## ANSWER : "
      ],
      "metadata": {
        "id": "v3-XoVOHlwyN"
      },
      "execution_count": null,
      "outputs": []
    },
    {
      "cell_type": "markdown",
      "source": [
        "# **Activities 2 : Import python libraries relevant for data visualization**\n",
        "\n"
      ],
      "metadata": {
        "id": "O9Ck4i2iQj2d"
      }
    },
    {
      "cell_type": "markdown",
      "source": [
        "Task 02 : Importing relevant packages with their alias"
      ],
      "metadata": {
        "id": "WhQbDjI1Sjmp"
      }
    },
    {
      "cell_type": "code",
      "source": [
        "#################################################################\n",
        "## START TIME : "
      ],
      "metadata": {
        "id": "KYZlnwWkeyce"
      },
      "execution_count": null,
      "outputs": []
    },
    {
      "cell_type": "code",
      "execution_count": null,
      "metadata": {
        "id": "oNMHPpy2Qb-U"
      },
      "outputs": [],
      "source": [
        "# Task 02 : Importing relevant packages with their alias\n"
      ]
    },
    {
      "cell_type": "code",
      "source": [
        "#################################################################\n",
        "## END TIME : \n",
        "## BETWEEN 1 - 5 WHAT IS YOUR CONFIDENCE LEVEL FOR THE TASK\n",
        "## ANSWER : "
      ],
      "metadata": {
        "id": "3vb2nLrheZDM"
      },
      "execution_count": null,
      "outputs": []
    },
    {
      "cell_type": "markdown",
      "source": [
        "# **Activities 3 : Load the data source given into this workspace and rename the data with suitable name variable.**"
      ],
      "metadata": {
        "id": "JINb1nUzOB7g"
      }
    },
    {
      "cell_type": "markdown",
      "source": [
        "Task 03 : Load health data for analysis from the https://github.com/arifjamal89/data_visualization_tools\n"
      ],
      "metadata": {
        "id": "P3qhxVocRhGD"
      }
    },
    {
      "cell_type": "code",
      "source": [
        "#################################################################\n",
        "## START TIME : "
      ],
      "metadata": {
        "id": "Uva6EBKAe3lW"
      },
      "execution_count": null,
      "outputs": []
    },
    {
      "cell_type": "code",
      "source": [
        "# Task 03 : Load health data for analysis\n"
      ],
      "metadata": {
        "id": "_IbUgzGKQvR5"
      },
      "execution_count": null,
      "outputs": []
    },
    {
      "cell_type": "code",
      "source": [
        "#################################################################\n",
        "## END TIME : \n",
        "## BETWEEN 1 - 5 WHAT IS YOUR CONFIDENCE LEVEL FOR THE TASK\n",
        "## ANSWER : "
      ],
      "metadata": {
        "id": "BDQdsB84eoG9"
      },
      "execution_count": null,
      "outputs": []
    },
    {
      "cell_type": "markdown",
      "source": [
        "# **Activities 4 : Understanding the data.**"
      ],
      "metadata": {
        "id": "jvcoeBARSurt"
      }
    },
    {
      "cell_type": "markdown",
      "source": [
        "Task 04 : Print top5 data/ header of DataFrame"
      ],
      "metadata": {
        "id": "cYVH49f5Su8E"
      }
    },
    {
      "cell_type": "code",
      "source": [
        "#################################################################\n",
        "## START TIME : "
      ],
      "metadata": {
        "id": "8mIoRAdoe_Rw"
      },
      "execution_count": null,
      "outputs": []
    },
    {
      "cell_type": "code",
      "source": [
        "# Task 04 : Print top5 data/ header of DataFrame\n"
      ],
      "metadata": {
        "id": "GQ05FnVwRh9x"
      },
      "execution_count": null,
      "outputs": []
    },
    {
      "cell_type": "code",
      "source": [
        "#################################################################\n",
        "## END TIME : \n",
        "## BETWEEN 1 - 5 WHAT IS YOUR CONFIDENCE LEVEL FOR THE TASK\n",
        "## ANSWER : "
      ],
      "metadata": {
        "id": "DnJSbUCml9cs"
      },
      "execution_count": null,
      "outputs": []
    },
    {
      "cell_type": "markdown",
      "source": [
        "Task 05 : Display all the columns from the data set"
      ],
      "metadata": {
        "id": "b55P4J7nSwvB"
      }
    },
    {
      "cell_type": "code",
      "source": [
        "#################################################################\n",
        "## START TIME : "
      ],
      "metadata": {
        "id": "nMhPNhqVl_Ra"
      },
      "execution_count": null,
      "outputs": []
    },
    {
      "cell_type": "code",
      "source": [
        "# Task 05\n"
      ],
      "metadata": {
        "id": "artTme92SNhX"
      },
      "execution_count": null,
      "outputs": []
    },
    {
      "cell_type": "code",
      "source": [
        "#################################################################\n",
        "## END TIME : \n",
        "## BETWEEN 1 - 5 WHAT IS YOUR CONFIDENCE LEVEL FOR THE TASK\n",
        "## ANSWER : "
      ],
      "metadata": {
        "id": "ulL5R5LomAkA"
      },
      "execution_count": null,
      "outputs": []
    },
    {
      "cell_type": "markdown",
      "source": [
        "Task 06 : Rename the columns with a suitable name"
      ],
      "metadata": {
        "id": "iaxL7-WxS0kF"
      }
    },
    {
      "cell_type": "code",
      "source": [
        "#################################################################\n",
        "## START TIME : "
      ],
      "metadata": {
        "id": "l8EXiVo1mBzz"
      },
      "execution_count": null,
      "outputs": []
    },
    {
      "cell_type": "code",
      "source": [
        "# Task 06 \n"
      ],
      "metadata": {
        "id": "x0EYzjDccucj"
      },
      "execution_count": null,
      "outputs": []
    },
    {
      "cell_type": "code",
      "source": [
        "#################################################################\n",
        "## END TIME : \n",
        "## BETWEEN 1 - 5 WHAT IS YOUR CONFIDENCE LEVEL FOR THE TASK\n",
        "## ANSWER : "
      ],
      "metadata": {
        "id": "1GePf0LbmCaZ"
      },
      "execution_count": null,
      "outputs": []
    },
    {
      "cell_type": "markdown",
      "source": [
        "Task 07 : Display data types for each column from the data set"
      ],
      "metadata": {
        "id": "m0IDVYNRS91f"
      }
    },
    {
      "cell_type": "code",
      "source": [
        "#################################################################\n",
        "## START TIME : "
      ],
      "metadata": {
        "id": "gVQoCUhBmDL2"
      },
      "execution_count": null,
      "outputs": []
    },
    {
      "cell_type": "code",
      "source": [
        "# Task 07 \n"
      ],
      "metadata": {
        "id": "hNB4ClSIWakb"
      },
      "execution_count": null,
      "outputs": []
    },
    {
      "cell_type": "code",
      "source": [
        "#################################################################\n",
        "## END TIME : \n",
        "## BETWEEN 1 - 5 WHAT IS YOUR CONFIDENCE LEVEL FOR THE TASK\n",
        "## ANSWER : "
      ],
      "metadata": {
        "id": "0SoSe8uDmDdn"
      },
      "execution_count": null,
      "outputs": []
    },
    {
      "cell_type": "markdown",
      "source": [
        "# **Activities 5 : Visualize the data.**"
      ],
      "metadata": {
        "id": "DllG1bg5TFYM"
      }
    },
    {
      "cell_type": "markdown",
      "source": [
        "Task 08 : What was the ***depression*** rate?"
      ],
      "metadata": {
        "id": "bL6JztZvTu4w"
      }
    },
    {
      "cell_type": "code",
      "source": [
        "#################################################################\n",
        "## START TIME : "
      ],
      "metadata": {
        "id": "8U0u-COsfBwN"
      },
      "execution_count": null,
      "outputs": []
    },
    {
      "cell_type": "code",
      "source": [
        "#\n",
        "# Task 08\n",
        "#\n"
      ],
      "metadata": {
        "id": "WVYTvd4wzHVv"
      },
      "execution_count": null,
      "outputs": []
    },
    {
      "cell_type": "code",
      "source": [
        "#################################################################\n",
        "## END TIME : \n",
        "## BETWEEN 1 - 5 WHAT IS YOUR CONFIDENCE LEVEL FOR THE TASK\n",
        "## ANSWER : "
      ],
      "metadata": {
        "id": "n-brM9jXmnnm"
      },
      "execution_count": null,
      "outputs": []
    },
    {
      "cell_type": "markdown",
      "source": [
        "Task 09 - What was the ***anxiety rate*** by ***gender***?\n",
        "\n"
      ],
      "metadata": {
        "id": "_PwXOQ1hUFkl"
      }
    },
    {
      "cell_type": "code",
      "source": [
        "#################################################################\n",
        "## START TIME : "
      ],
      "metadata": {
        "id": "zhmrmQQBmXnp"
      },
      "execution_count": null,
      "outputs": []
    },
    {
      "cell_type": "code",
      "source": [
        "#\n",
        "# Task 09\n",
        "#\n"
      ],
      "metadata": {
        "id": "jW5MZWOdyP79"
      },
      "execution_count": null,
      "outputs": []
    },
    {
      "cell_type": "code",
      "source": [
        "#################################################################\n",
        "## END TIME : \n",
        "## BETWEEN 1 - 5 WHAT IS YOUR CONFIDENCE LEVEL FOR THE TASK\n",
        "## ANSWER : "
      ],
      "metadata": {
        "id": "JLrgO0B3mmwn"
      },
      "execution_count": null,
      "outputs": []
    },
    {
      "cell_type": "markdown",
      "source": [
        "Task 10 - What was the ***depression rate*** by ***courses***?"
      ],
      "metadata": {
        "id": "skGDAv3CUNVk"
      }
    },
    {
      "cell_type": "code",
      "source": [
        "#################################################################\n",
        "## START TIME : "
      ],
      "metadata": {
        "id": "Ni7NQKA7mX95"
      },
      "execution_count": null,
      "outputs": []
    },
    {
      "cell_type": "code",
      "source": [
        "#\n",
        "# Task 10\n",
        "#\n"
      ],
      "metadata": {
        "id": "uEzmqRt-UQ-w"
      },
      "execution_count": null,
      "outputs": []
    },
    {
      "cell_type": "code",
      "source": [
        "#################################################################\n",
        "## END TIME : \n",
        "## BETWEEN 1 - 5 WHAT IS YOUR CONFIDENCE LEVEL FOR THE TASK\n",
        "## ANSWER : "
      ],
      "metadata": {
        "id": "9eZcUcobml5U"
      },
      "execution_count": null,
      "outputs": []
    },
    {
      "cell_type": "markdown",
      "source": [
        "Task 11 - What is the ***distribution of student ages*** using distribution plot? Set the ***binwidth = 1***"
      ],
      "metadata": {
        "id": "f4rqGdZJUbFZ"
      }
    },
    {
      "cell_type": "code",
      "source": [
        "#################################################################\n",
        "## START TIME : "
      ],
      "metadata": {
        "id": "2PncRF3bmZCd"
      },
      "execution_count": null,
      "outputs": []
    },
    {
      "cell_type": "code",
      "source": [
        "#\n",
        "# Task 11\n",
        "#\n"
      ],
      "metadata": {
        "id": "NgN1MSUZ0lI5"
      },
      "execution_count": null,
      "outputs": []
    },
    {
      "cell_type": "code",
      "source": [
        "#################################################################\n",
        "## END TIME : \n",
        "## BETWEEN 1 - 5 WHAT IS YOUR CONFIDENCE LEVEL FOR THE TASK\n",
        "## ANSWER : "
      ],
      "metadata": {
        "id": "IGppRBH2mlHj"
      },
      "execution_count": null,
      "outputs": []
    },
    {
      "cell_type": "markdown",
      "source": [
        "Task 12 - What are the ***Panic Attack rates by age*** using distribution plot? Set the ***binwidth = 1***"
      ],
      "metadata": {
        "id": "9DeC5jriUjNP"
      }
    },
    {
      "cell_type": "code",
      "source": [
        "#################################################################\n",
        "## START TIME : "
      ],
      "metadata": {
        "id": "go08GYh_mZjq"
      },
      "execution_count": null,
      "outputs": []
    },
    {
      "cell_type": "code",
      "source": [
        "#\n",
        "# Task 12\n",
        "#\n"
      ],
      "metadata": {
        "id": "pTV9MXCg2W98"
      },
      "execution_count": null,
      "outputs": []
    },
    {
      "cell_type": "code",
      "source": [
        "#################################################################\n",
        "## END TIME : \n",
        "## BETWEEN 1 - 5 WHAT IS YOUR CONFIDENCE LEVEL FOR THE TASK\n",
        "## ANSWER : "
      ],
      "metadata": {
        "id": "OaXqGTrjmkOs"
      },
      "execution_count": null,
      "outputs": []
    },
    {
      "cell_type": "markdown",
      "source": [
        "Task 13 - Use ***Box plot*** to display ***depression rate*** by ***age***"
      ],
      "metadata": {
        "id": "2POW804WUvBo"
      }
    },
    {
      "cell_type": "code",
      "source": [
        "#################################################################\n",
        "## START TIME : "
      ],
      "metadata": {
        "id": "DberhKKUmZ92"
      },
      "execution_count": null,
      "outputs": []
    },
    {
      "cell_type": "code",
      "source": [
        "#\n",
        "# Task 13\n",
        "#\n"
      ],
      "metadata": {
        "id": "GU5tZHZU3DXT"
      },
      "execution_count": null,
      "outputs": []
    },
    {
      "cell_type": "code",
      "source": [
        "#################################################################\n",
        "## END TIME : \n",
        "## BETWEEN 1 - 5 WHAT IS YOUR CONFIDENCE LEVEL FOR THE TASK\n",
        "## ANSWER : "
      ],
      "metadata": {
        "id": "-frKlCExmjMc"
      },
      "execution_count": null,
      "outputs": []
    },
    {
      "cell_type": "markdown",
      "source": [
        "Task 14 - Use ***Bar plot*** to display ***depression rate by cgpa***"
      ],
      "metadata": {
        "id": "o_6WlZbvUz_A"
      }
    },
    {
      "cell_type": "code",
      "source": [
        "#################################################################\n",
        "## START TIME : "
      ],
      "metadata": {
        "id": "c5S_jdv-maTe"
      },
      "execution_count": null,
      "outputs": []
    },
    {
      "cell_type": "code",
      "source": [
        "#\n",
        "# Task 14\n",
        "#"
      ],
      "metadata": {
        "id": "UBfnko1i4c8Y"
      },
      "execution_count": null,
      "outputs": []
    },
    {
      "cell_type": "code",
      "source": [
        "#################################################################\n",
        "## END TIME : \n",
        "## BETWEEN 1 - 5 WHAT IS YOUR CONFIDENCE LEVEL FOR THE TASK\n",
        "## ANSWER : "
      ],
      "metadata": {
        "id": "nhcNxr8DmihA"
      },
      "execution_count": null,
      "outputs": []
    },
    {
      "cell_type": "markdown",
      "source": [
        "Task 15 - Use ***Bar plot*** to display ***anxiety rate by cgpa***"
      ],
      "metadata": {
        "id": "ACxJU9vKU-p1"
      }
    },
    {
      "cell_type": "code",
      "source": [
        "#################################################################\n",
        "## START TIME : "
      ],
      "metadata": {
        "id": "JBUtv6Y7maxV"
      },
      "execution_count": null,
      "outputs": []
    },
    {
      "cell_type": "code",
      "source": [
        "#\n",
        "# Task 15\n",
        "#\n"
      ],
      "metadata": {
        "id": "tuYJ3cJn4qx_"
      },
      "execution_count": null,
      "outputs": []
    },
    {
      "cell_type": "code",
      "source": [
        "#################################################################\n",
        "## END TIME : \n",
        "## BETWEEN 1 - 5 WHAT IS YOUR CONFIDENCE LEVEL FOR THE TASK\n",
        "## ANSWER : "
      ],
      "metadata": {
        "id": "b5SP2lcDmh5G"
      },
      "execution_count": null,
      "outputs": []
    },
    {
      "cell_type": "markdown",
      "source": [
        "Task 16 - Use ***bar plot*** to display ***depression rate by current year study***"
      ],
      "metadata": {
        "id": "xPN4-R7lVEUs"
      }
    },
    {
      "cell_type": "code",
      "source": [
        "#################################################################\n",
        "## START TIME : "
      ],
      "metadata": {
        "id": "ykmZDRA1mbMO"
      },
      "execution_count": null,
      "outputs": []
    },
    {
      "cell_type": "code",
      "source": [
        "#\n",
        "# Task 16\n",
        "#\n"
      ],
      "metadata": {
        "id": "Z0zlV6vX45Ur"
      },
      "execution_count": null,
      "outputs": []
    },
    {
      "cell_type": "code",
      "source": [
        "#################################################################\n",
        "## END TIME : \n",
        "## BETWEEN 1 - 5 WHAT IS YOUR CONFIDENCE LEVEL FOR THE TASK\n",
        "## ANSWER : "
      ],
      "metadata": {
        "id": "rQhUpQiAmg_J"
      },
      "execution_count": null,
      "outputs": []
    },
    {
      "cell_type": "markdown",
      "source": [
        "Task 17 - What was the ***treatment rate by depression rate and gender***? \n",
        "Understanding those student who have depression are seeking help for specialist treatment."
      ],
      "metadata": {
        "id": "B1VjwDaYVspo"
      }
    },
    {
      "cell_type": "code",
      "source": [
        "#################################################################\n",
        "## START TIME : "
      ],
      "metadata": {
        "id": "9WisajpNmbkN"
      },
      "execution_count": null,
      "outputs": []
    },
    {
      "cell_type": "code",
      "source": [
        "#\n",
        "# Task 17\n",
        "#\n"
      ],
      "metadata": {
        "id": "DxdaxQs_ZxCo"
      },
      "execution_count": null,
      "outputs": []
    },
    {
      "cell_type": "code",
      "source": [
        "#################################################################\n",
        "## END TIME : \n",
        "## BETWEEN 1 - 5 WHAT IS YOUR CONFIDENCE LEVEL FOR THE TASK\n",
        "## ANSWER : "
      ],
      "metadata": {
        "id": "rUZdse-WfDsv"
      },
      "execution_count": null,
      "outputs": []
    },
    {
      "cell_type": "markdown",
      "source": [
        "# **END Task : Questionnaire Survey.**"
      ],
      "metadata": {
        "id": "AuIlSCYkLrxA"
      }
    },
    {
      "cell_type": "markdown",
      "source": [
        "After finishing the task please click on File -> Download -> Download .ipynb and email your work to arifjamal89@gmail.com\n",
        "\n",
        "\n",
        "Please answer the usability questionnaire below\n",
        "\n",
        "Link : https://forms.gle/3QBCASrbjjzjGDGA9 \n",
        "\n",
        "Link Post Test : https://forms.gle/92k7tpEpMHA35LvSA"
      ],
      "metadata": {
        "id": "FmPHFUcniZVS"
      }
    }
  ]
}